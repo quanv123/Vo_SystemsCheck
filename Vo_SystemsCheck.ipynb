{
 "cells": [
  {
   "cell_type": "markdown",
   "id": "6f49fac7",
   "metadata": {},
   "source": [
    "# Systems Check\n",
    "\n",
    "## By Quan Vo\n",
    "\n",
    "### 9/1/22\n",
    "\n",
    "### What I hope to get out of this class:\n",
    "- Gain more coding experience.\n",
    "- Have a good understanding of Python and data analytics.\n",
    "\n",
    "<img src=\"https://www.pngitem.com/pimgs/m/31-312064_programming-icon-png-python-logo-512-transparent-png.png\" width=\"200\" align=\"left\">\n",
    "\n"
   ]
  },
  {
   "cell_type": "code",
   "execution_count": 3,
   "id": "35dfb66c",
   "metadata": {},
   "outputs": [
    {
     "name": "stdout",
     "output_type": "stream",
     "text": [
      "1\n",
      "1\n",
      "1\n",
      "1\n"
     ]
    }
   ],
   "source": [
    "for i in [1,2,3,4]:\n",
    "    print(1)"
   ]
  },
  {
   "cell_type": "code",
   "execution_count": 4,
   "id": "c669f15d",
   "metadata": {},
   "outputs": [
    {
     "name": "stdout",
     "output_type": "stream",
     "text": [
      "David\n"
     ]
    }
   ],
   "source": [
    "x = \"David\"\n",
    "print(x)"
   ]
  },
  {
   "cell_type": "code",
   "execution_count": 5,
   "id": "877a3ec0",
   "metadata": {},
   "outputs": [],
   "source": [
    "def names (x):\n",
    "    return(x)"
   ]
  },
  {
   "cell_type": "code",
   "execution_count": 6,
   "id": "22776114",
   "metadata": {},
   "outputs": [
    {
     "name": "stdout",
     "output_type": "stream",
     "text": [
      "David\n"
     ]
    }
   ],
   "source": [
    "y = names(\"David\")\n",
    "print(y)"
   ]
  }
 ],
 "metadata": {
  "kernelspec": {
   "display_name": "Python 3 (ipykernel)",
   "language": "python",
   "name": "python3"
  },
  "language_info": {
   "codemirror_mode": {
    "name": "ipython",
    "version": 3
   },
   "file_extension": ".py",
   "mimetype": "text/x-python",
   "name": "python",
   "nbconvert_exporter": "python",
   "pygments_lexer": "ipython3",
   "version": "3.10.4"
  }
 },
 "nbformat": 4,
 "nbformat_minor": 5
}
